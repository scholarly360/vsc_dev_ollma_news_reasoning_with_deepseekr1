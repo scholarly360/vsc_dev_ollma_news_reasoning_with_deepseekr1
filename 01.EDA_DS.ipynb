{
 "cells": [
  {
   "cell_type": "code",
   "execution_count": 1,
   "metadata": {},
   "outputs": [],
   "source": [
    "### Review Reasoning Capability\n",
    "\n",
    "### if ollama is not running put following line in terminal >> ollama serve "
   ]
  },
  {
   "cell_type": "code",
   "execution_count": 2,
   "metadata": {},
   "outputs": [],
   "source": [
    "import ollama\n",
    "from pprint import pprint\n",
    "import re"
   ]
  },
  {
   "cell_type": "code",
   "execution_count": 3,
   "metadata": {},
   "outputs": [],
   "source": [
    "\n",
    "def only_return_main_answer(response_content_from_llm):\n",
    "    \"\"\" This function removes the reasoning part of the response and only returns the main answer \"\"\"\n",
    "    tmp_answer = re.sub(r\"<think>.*?</think>\", \"\", response_content_from_llm, flags=re.DOTALL).strip()\n",
    "    return(tmp_answer)\n",
    "\n",
    "\n",
    "INSTRUCTION_PROMPT = \"You are expert on M&A. Can you provide with a very brief summary of the following news article?\"\n",
    "\n",
    "def get_all_responses(news_article):\n",
    "    response = ollama.chat(\n",
    "        model=\"deepseek-r1:1.5b\",\n",
    "        messages=[\n",
    "            {\"role\": \"system\", \"content\": INSTRUCTION_PROMPT},\n",
    "            {\"role\": \"user\", \"content\": news_article},\n",
    "        ],\n",
    "    )\n",
    "    response_content_from_llm = response[\"message\"][\"content\"]\n",
    "    only_answer_no_reasoning = only_return_main_answer(response_content_from_llm)\n",
    "    return(response_content_from_llm, only_answer_no_reasoning)\n",
    "\n",
    "news_article = \"Nissan Motor Co. is prepared to reject an acquisition offer that would make it a subsidiary of Honda Motor Co., according to a person familiar with the matter, a move that could jeopardize talks between the two carmakers to join forces.\"\n",
    "response_content_from_llm, only_answer_no_reasoning = get_all_responses(news_article)"
   ]
  },
  {
   "cell_type": "code",
   "execution_count": 4,
   "metadata": {},
   "outputs": [
    {
     "name": "stdout",
     "output_type": "stream",
     "text": [
      "<think>\n",
      "Okay, so I need to provide a brief summary of the given news article about Nissan and Honda merging. Let me start by reading through the article carefully.\n",
      "\n",
      "The article mentions that Nissan is considering an acquisition offer from Honda that would make it a subsidiary of Honda. This move could potentially delay or jeopardize talks between the two companies to merge. I remember seeing something like this before, so I think I can summarize it.\n",
      "\n",
      "I should note that the person involved in this information is familiar with the matter, which shows they're experienced and have some background knowledge. That might make the summary more credible.\n",
      "\n",
      "The key points are: Nissan's decision to reject the merger offer, making it a subsidiary of Honda instead, and how this could affect their talks. It's important to mention that this move is crucial for their potential merger plan.\n",
      "\n",
      "I need to keep it brief, so I'll only include the main ideas without getting too detailed. Maybe something like: Nissan rejects the acquisition offer, considering it might delay or destabilize talks with Honda over a potential merger.\n",
      "</think>\n",
      "\n",
      "Nissan has decided to reject an acquisition offer that would make it a subsidiary of Honda Motor Co., potentially delaying or destabilizing discussions about a potential merger between the two companies.\n"
     ]
    }
   ],
   "source": [
    "\n",
    "print(response_content_from_llm)"
   ]
  },
  {
   "cell_type": "code",
   "execution_count": 5,
   "metadata": {},
   "outputs": [
    {
     "name": "stdout",
     "output_type": "stream",
     "text": [
      "Nissan has decided to reject an acquisition offer that would make it a subsidiary of Honda Motor Co., potentially delaying or destabilizing discussions about a potential merger between the two companies.\n"
     ]
    }
   ],
   "source": [
    "\n",
    "print(only_answer_no_reasoning)"
   ]
  },
  {
   "cell_type": "code",
   "execution_count": 6,
   "metadata": {},
   "outputs": [],
   "source": [
    "\n",
    "\n",
    "news_article = \"TVS Holdings Ltd has announced the completion of the acquisition of an 80.74 per cent equity stake of Home Credit India Finance Private Ltd for ₹554 crore. The remaining 19.26 per cent of the equity stake has been purchased by Premji Invest and other associates of TVS Holdings.\"\n",
    "response_content_from_llm, only_answer_no_reasoning = get_all_responses(news_article)\n"
   ]
  },
  {
   "cell_type": "code",
   "execution_count": 7,
   "metadata": {},
   "outputs": [
    {
     "name": "stdout",
     "output_type": "stream",
     "text": [
      "<think>\n",
      "Okay, I need to summarize this news article about TVS Holdings buying Home Credit. Let me read through it again.\n",
      "\n",
      "TVS bought 80.74% of Home Credit's equity for ₹554 crore. The rest was bought by Premji Invest and others. That sounds like a big purchase. They probably want better control or expansion.\n",
      "\n",
      "Hmm, I should mention the type of deal—acquisition—and the percentages. Also note that TVS now owns 80% and Premji has other associates. Maybe it's strategic to have more equity in Home Credit.\n",
      "\n",
      "I wonder if they're buying for better financial performance or cost savings. It could be part of a larger company strategy.\n",
      "\n",
      "So, putting it together: TVS bought a big portion of Home Credit, which is likely an expansion move or control improvement. The details are about percentages and the buyer's names.\n",
      "</think>\n",
      "\n",
      "TVS Holdings Ltd has completed the acquisition of 80.74% equity stake in Home Credit India Finance Private Ltd for ₹554 crore. The remaining 19.26% was purchased by Premji Invest and other associates of TVS Holdings. This acquisition signifies a strategic move to expand or improve control within the company, likely following the purchase of another asset by Premji Invest.\n"
     ]
    }
   ],
   "source": [
    "print(response_content_from_llm)"
   ]
  },
  {
   "cell_type": "code",
   "execution_count": 8,
   "metadata": {},
   "outputs": [
    {
     "name": "stdout",
     "output_type": "stream",
     "text": [
      "TVS Holdings Ltd has completed the acquisition of 80.74% equity stake in Home Credit India Finance Private Ltd for ₹554 crore. The remaining 19.26% was purchased by Premji Invest and other associates of TVS Holdings. This acquisition signifies a strategic move to expand or improve control within the company, likely following the purchase of another asset by Premji Invest.\n"
     ]
    }
   ],
   "source": [
    "print(only_answer_no_reasoning)"
   ]
  }
 ],
 "metadata": {
  "kernelspec": {
   "display_name": "Python 3",
   "language": "python",
   "name": "python3"
  },
  "language_info": {
   "codemirror_mode": {
    "name": "ipython",
    "version": 3
   },
   "file_extension": ".py",
   "mimetype": "text/x-python",
   "name": "python",
   "nbconvert_exporter": "python",
   "pygments_lexer": "ipython3",
   "version": "3.12.8"
  }
 },
 "nbformat": 4,
 "nbformat_minor": 2
}
