{
 "cells": [
  {
   "cell_type": "code",
   "execution_count": 1,
   "metadata": {},
   "outputs": [],
   "source": [
    "### Review Reasoning Capability (But now extra context is given via Bing API) https://github.com/microsoft/bing-search-sdk-for-python\n",
    "\n",
    "### if ollama is not running put following line in terminal >> ollama serve "
   ]
  },
  {
   "cell_type": "code",
   "execution_count": 2,
   "metadata": {},
   "outputs": [],
   "source": [
    "import ollama\n",
    "from pprint import pprint\n",
    "import re, os \n",
    "from dotenv import load_dotenv\n",
    "load_dotenv()\n",
    "\n",
    "\n",
    "from news_search_client import NewsSearchClient\n",
    "from azure.core.credentials import AzureKeyCredential\n",
    "SUBSCRIPTION_KEY = os.getenv(\"BING_SEARCH_SUBSCRIPTION_KEY\")\n",
    "ENDPOINT = \"https://api.bing.microsoft.com\" + \"/v7.0/\"\n",
    "\n",
    "def news_search(param_query):\n",
    "    \"\"\"NewsSearch.\n",
    "    \"\"\"\n",
    "    client = NewsSearchClient(\n",
    "        endpoint=ENDPOINT, credential=AzureKeyCredential(SUBSCRIPTION_KEY)\n",
    "    )\n",
    "\n",
    "    try:\n",
    "        news_result = client.news.search(\n",
    "            query=param_query, market=\"en-us\", count=4, freshness=\"Week\",\n",
    "        )\n",
    "        if news_result.value:\n",
    "            return [{\"role\": \"assistant\", \"content\": n.description}  for n in news_result.value]\n",
    "\n",
    "    except Exception as err:\n",
    "        return []\n",
    "\n"
   ]
  },
  {
   "cell_type": "code",
   "execution_count": 3,
   "metadata": {},
   "outputs": [
    {
     "data": {
      "text/plain": [
       "[{'role': 'assistant',\n",
       "  'content': 'Even if the merger is off, Nissan remains keen on working with Honda in areas such as electric vehicles and software defined vehicles.'},\n",
       " {'role': 'assistant',\n",
       "  'content': 'Two of Japan’s largest automakers have been in talks to combine their operations to form one of the world’s biggest car groups.'},\n",
       " {'role': 'assistant',\n",
       "  'content': 'The Wall Street Journal reported that Nissan was likely to walk away from a merger proposed in December that would create the world’s third-largest auto maker. It was a'},\n",
       " {'role': 'assistant',\n",
       "  'content': 'Shares of Nissan Motor Co. and Honda Motor Co. rose following reports that the automakers’ proposed merger may be scrapped.'}]"
      ]
     },
     "execution_count": 3,
     "metadata": {},
     "output_type": "execute_result"
    }
   ],
   "source": [
    "news_search(\"Nissan Motor Co. merger\")"
   ]
  },
  {
   "cell_type": "code",
   "execution_count": 4,
   "metadata": {},
   "outputs": [
    {
     "data": {
      "text/plain": [
       "[{'role': 'assistant',\n",
       "  'content': \"The transaction was funded through a combination of the proceeds from the recent sale of TVS Holdings' real estate assets and borrowings from capital markets.\"},\n",
       " {'role': 'assistant',\n",
       "  'content': 'TVS Holdings acquires 80.74% stake in Home Credit India for ₹554 crore, aiming to strengthen financial services sector.'},\n",
       " {'role': 'assistant',\n",
       "  'content': 'Following the deal, together with TVS Credit, the Group is eyeing a lending book size of Rs 50,000 crore in the next three years'},\n",
       " {'role': 'assistant',\n",
       "  'content': 'TVS Holdings acquires 80.74% stake in Home Credit India for ₹554 crore, strengthening its financial services sector presence.'}]"
      ]
     },
     "execution_count": 4,
     "metadata": {},
     "output_type": "execute_result"
    }
   ],
   "source": [
    "news_search(\"TVS Holdings Ltd acquires  Home Credit India\")"
   ]
  },
  {
   "cell_type": "code",
   "execution_count": 5,
   "metadata": {},
   "outputs": [],
   "source": [
    "\n",
    "def only_return_main_answer(response_content_from_llm):\n",
    "    \"\"\" This function removes the reasoning part of the response and only returns the main answer \"\"\"\n",
    "    tmp_answer = re.sub(r\"<think>.*?</think>\", \"\", response_content_from_llm, flags=re.DOTALL).strip()\n",
    "    return(tmp_answer)\n",
    "\n",
    "\n",
    "INSTRUCTION_PROMPT = \"You are expert on M&A. Can you provide with a very brief summary of the following news article?\"\n",
    "\n",
    "def get_all_responses(news_article, news_topic):\n",
    "\n",
    "    tmp_content = news_search(news_article)\n",
    "    tmp_array = []\n",
    "    tmp_array.append({\"role\": \"system\", \"content\": INSTRUCTION_PROMPT})\n",
    "    for item in tmp_content:\n",
    "        tmp_array.append(item)\n",
    "    tmp_array.append({\"role\": \"user\", \"content\": news_article})\n",
    "\n",
    "    response = ollama.chat(\n",
    "        model=\"deepseek-r1:1.5b\",\n",
    "        messages=tmp_array\n",
    "    )\n",
    "    response_content_from_llm = response[\"message\"][\"content\"]\n",
    "    only_answer_no_reasoning = only_return_main_answer(response_content_from_llm)\n",
    "    return(response_content_from_llm, only_answer_no_reasoning)\n",
    "\n",
    "news_article = \"Nissan Motor Co. is prepared to reject an acquisition offer that would make it a subsidiary of Honda Motor Co., according to a person familiar with the matter, a move that could jeopardize talks between the two carmakers to join forces.\"\n",
    "news_topic= \"Nissan Motor Co. merger\"\n",
    "response_content_from_llm, only_answer_no_reasoning = get_all_responses(news_article,news_topic)"
   ]
  },
  {
   "cell_type": "code",
   "execution_count": 6,
   "metadata": {},
   "outputs": [
    {
     "name": "stdout",
     "output_type": "stream",
     "text": [
      "<think>\n",
      "Alright, so I'm trying to figure out how to approach this task. The user has given me some history about my previous interaction with them and now they've provided another query. Let's see what it says.\n",
      "\n",
      "In their last message, they sent a complete summary of a news article about Nissan Motor Co. declining an acquisition offer that would make it a subsidiary of Honda Motor Co., potentially jeopardizing their talks to join forces. Now, the new query is identical: \"Nissan Motor Co. is prepared to reject an acquisition offer that would make it a subsidiary of Honda Motor Co., according to a person familiar with the matter, a move that could jeopardize talks between the two carmakers to join forces.\"\n",
      "\n",
      "Hmm, I notice some repetition here. The user wrote this twice, once as a summary and then again as their current query. That's probably because they wanted me to provide a very brief summary of the news article in the previous message.\n",
      "\n",
      "Looking back, my initial response was a complete summary that included all the key points: Nissan is preparing to reject an acquisition offer, which could jeopardize their alliance with Honda. I should make sure to capture both parts accurately without including extra information.\n",
      "\n",
      "I also need to pay attention to the specific names and market capitalizations mentioned—Nissan is valued at $250 billion, and Honda around $430 billion—and ensure these details are included in my summary for clarity and completeness.\n",
      "\n",
      "Additionally, I should check if there's any underlying context or reasoning behind the news. The user might be looking to understand why this merger-related decision is happening, possibly as a potential strategic move by one company over the other.\n",
      "\n",
      "I need to structure my response clearly, starting with the headline of the article, followed by the key details about the acquisition offer, the impact on the companies' relationship, and the mention of market valuations. That way, it's concise yet informative.\n",
      "\n",
      "Wait, but in my previous interaction, I included both parts: the summary of the news and then repeated the same information. Maybe I should avoid redundancy this time and focus solely on the key points as requested by the user.\n",
      "\n",
      "So, in my response, I'll make sure to separate these details into distinct paragraphs for clarity. That way, when the user asks again, they can easily extract the necessary information without getting bogged down by extra content.\n",
      "\n",
      "I also need to ensure that all numerical values are correctly noted—Nissan at $250 billion and Honda at $430 billion. Missing this could lead to inaccuracies in the summary.\n",
      "\n",
      "Lastly, I should confirm that my response is free from any external links or references unless they're part of the article's content, which they aren't in this case. Keeping it all within the user's instructions means being precise and concise.\n",
      "</think>\n",
      "\n",
      "Nissan Motor Co. is preparing to reject an acquisition offer that would make it a subsidiary of Honda Motor Co., potentially jeopardizing talks between the two carmakers to join forces. According to a person familiar with the matter, this move could hamper the potential alliance between the companies.\n"
     ]
    }
   ],
   "source": [
    "\n",
    "print(response_content_from_llm)"
   ]
  },
  {
   "cell_type": "code",
   "execution_count": 7,
   "metadata": {},
   "outputs": [
    {
     "name": "stdout",
     "output_type": "stream",
     "text": [
      "Nissan Motor Co. is preparing to reject an acquisition offer that would make it a subsidiary of Honda Motor Co., potentially jeopardizing talks between the two carmakers to join forces. According to a person familiar with the matter, this move could hamper the potential alliance between the companies.\n"
     ]
    }
   ],
   "source": [
    "print(only_answer_no_reasoning)"
   ]
  },
  {
   "cell_type": "code",
   "execution_count": 8,
   "metadata": {},
   "outputs": [],
   "source": [
    "news_article = \"TVS Holdings Ltd has announced the completion of the acquisition of an 80.74 per cent equity stake of Home Credit India Finance Private Ltd for ₹554 crore. The remaining 19.26 per cent of the equity stake has been purchased by Premji Invest and other associates of TVS Holdings.\"\n",
    "news_topic= \"TVS Holdings Ltd acquires Home Credit India\"\n",
    "response_content_from_llm, only_answer_no_reasoning = get_all_responses(news_article,news_topic)"
   ]
  },
  {
   "cell_type": "code",
   "execution_count": 9,
   "metadata": {},
   "outputs": [
    {
     "name": "stdout",
     "output_type": "stream",
     "text": [
      "<think>\n",
      "Okay, so the user is asking about TVS Holdings's acquisition of a portion of Home Credit. I remember from the previous conversation that TVS bought 80.74% of HomeCredit in India for Rs 554 crore. Now they're providing a similar question, but with exact numbers and more specific details.\n",
      "\n",
      "I need to make sure I cover all the important points here. They specifically mention the equity stake being 80.74%, which is a significant portion. The total consideration was 25% in IDCW, so that's a big deal for TVS as well. Premji Invest and other associates are part of this deal, so I should include that information to show the full picture.\n",
      "\n",
      "Also, including details about their equity structure at the time of acquisition might be useful. Maybe I can mention how TVS was in a 67% stake before and now moving up to 80%, which could impact their financials or market position. Additionally, mentioning how this aligns with TVS's overall strategy of expanding its services is good.\n",
      "\n",
      "I think I need to structure the response clearly. Start with the key details: equity percentage, amount raised, partners involved. Then add more specifics about the equity structure and strategic expansion. Ending with a note on the broader impact would wrap things up nicely.\n",
      "\n",
      "Wait, did TVS go public? The previous answer mentioned their Rs 481 crore public offering as part of the deal, which is important context. I should include that to give a complete view.\n",
      "\n",
      "Also, it's worth noting that TVS acquired 80% equity in HomeCredit India Finance, which suggests they're investing heavily in financial services. This acquisition could tie into their vision of becoming a leading financial services giant.\n",
      "\n",
      "I think I've covered all the necessary points without being too detailed. It should give a comprehensive summary of TVS's acquisition as per the user's question.\n",
      "</think>\n",
      "\n",
      "TVS Holdings Ltd has announced the completion of its acquisition of an 80.74% equity stake in Home Credit India Finance Private Ltd for ₹554 crore (approximating to 25% of equity value). The remaining 19.26% of the equity stake has been purchased by Premji Invest and other associates of TVS Holdings.\n",
      "\n",
      "At the time of acquisition, TVS Holdings held a 67% stake in its parent company Home Credit India Finance Private Ltd (IDCW), making this acquisition a significant move for both parties. The deal reflects TVS's desire to strengthen its financial services sector by acquiring a substantial share in a well-established Indian retail banking giant.\n",
      "\n",
      "This acquisition aligns with TVS Holdings' broader strategy of expanding into various sectors and investing heavily in financial services, aligning with the company's vision of becoming India's leading financial services entity.\n"
     ]
    }
   ],
   "source": [
    "print(response_content_from_llm)"
   ]
  },
  {
   "cell_type": "code",
   "execution_count": 10,
   "metadata": {},
   "outputs": [
    {
     "name": "stdout",
     "output_type": "stream",
     "text": [
      "TVS Holdings Ltd has announced the completion of its acquisition of an 80.74% equity stake in Home Credit India Finance Private Ltd for ₹554 crore (approximating to 25% of equity value). The remaining 19.26% of the equity stake has been purchased by Premji Invest and other associates of TVS Holdings.\n",
      "\n",
      "At the time of acquisition, TVS Holdings held a 67% stake in its parent company Home Credit India Finance Private Ltd (IDCW), making this acquisition a significant move for both parties. The deal reflects TVS's desire to strengthen its financial services sector by acquiring a substantial share in a well-established Indian retail banking giant.\n",
      "\n",
      "This acquisition aligns with TVS Holdings' broader strategy of expanding into various sectors and investing heavily in financial services, aligning with the company's vision of becoming India's leading financial services entity.\n"
     ]
    }
   ],
   "source": [
    "\n",
    "print(only_answer_no_reasoning)"
   ]
  }
 ],
 "metadata": {
  "kernelspec": {
   "display_name": "Python 3",
   "language": "python",
   "name": "python3"
  },
  "language_info": {
   "codemirror_mode": {
    "name": "ipython",
    "version": 3
   },
   "file_extension": ".py",
   "mimetype": "text/x-python",
   "name": "python",
   "nbconvert_exporter": "python",
   "pygments_lexer": "ipython3",
   "version": "3.12.8"
  }
 },
 "nbformat": 4,
 "nbformat_minor": 2
}
